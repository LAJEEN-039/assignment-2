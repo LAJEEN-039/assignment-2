{
 "cells": [
  {
   "cell_type": "code",
   "execution_count": 3,
   "id": "2c1013fe-082d-47f3-aa20-6b7bac1aa2a3",
   "metadata": {},
   "outputs": [
    {
     "name": "stdin",
     "output_type": "stream",
     "text": [
      "Enter a number:  -6\n"
     ]
    },
    {
     "name": "stdout",
     "output_type": "stream",
     "text": [
      "The number -6.0 is negative.\n"
     ]
    }
   ],
   "source": [
    "#if a number is positive, negative, or zero\n",
    "number= float(input(\"Enter a number: \"))\n",
    "if number>0:\n",
    "    print(f\"The number {number} is positive.\")\n",
    "elif number<0:\n",
    "    print(f\"The number {number} is negative.\")\n",
    "else:\n",
    "    print(\"The number is zero.\")"
   ]
  },
  {
   "cell_type": "code",
   "execution_count": 7,
   "id": "209835f4-1fe3-4fbf-a574-111fc0bbc3c0",
   "metadata": {},
   "outputs": [
    {
     "name": "stdin",
     "output_type": "stream",
     "text": [
      "Enter a year:  2026\n"
     ]
    },
    {
     "name": "stdout",
     "output_type": "stream",
     "text": [
      "2026 is not a leap year.\n"
     ]
    }
   ],
   "source": [
    "#whether a given year is a leap year\n",
    "year=int(input(\"Enter a year: \"))\n",
    "if (year % 4==0 and year % 100!=0) or (year %400 ==0):\n",
    "    print(f\"{year} is a leap year.\")\n",
    "else:\n",
    "    print(f\"{year} is not a leap year.\")"
   ]
  },
  {
   "cell_type": "code",
   "execution_count": 13,
   "id": "184957ad-0f21-4ed3-86c1-d8b28e04e34a",
   "metadata": {},
   "outputs": [
    {
     "name": "stdin",
     "output_type": "stream",
     "text": [
      "Enter the first number:  80\n",
      "Enter the second number:  79\n",
      "Enter an operator (+,-,*,/):  *\n"
     ]
    },
    {
     "name": "stdout",
     "output_type": "stream",
     "text": [
      "The result of 80.0 * 79.0 is:6320.0\n"
     ]
    }
   ],
   "source": [
    "#calculator for two numbers and an operator\n",
    "num1 = float(input(\"Enter the first number: \"))\n",
    "num2 = float(input(\"Enter the second number: \"))\n",
    "operator = input(\"Enter an operator (+,-,*,/): \")\n",
    "\n",
    "if operator =='+':\n",
    "    result= num1 + num2\n",
    "elif operator =='-':\n",
    "    result= num1 - num2\n",
    "elif operator =='*':\n",
    "    result= num1  * num2\n",
    "elif operator =='/':\n",
    "    if num2 !=0:\n",
    "        result= num1/num2\n",
    "    else:\n",
    "        print(\"Error: Division by zero is not allowed.\")\n",
    "        result= None\n",
    "\n",
    "else:\n",
    "    print(\"Invalid operator! Please use one of +,-,*,/.\")\n",
    "    result=None\n",
    "\n",
    "if result is not None:\n",
    "    print(f\"The result of {num1} {operator} {num2} is:{result}\")"
   ]
  },
  {
   "cell_type": "code",
   "execution_count": 21,
   "id": "50f655e1-6a02-4d84-adab-1935d6d7b238",
   "metadata": {},
   "outputs": [
    {
     "name": "stdin",
     "output_type": "stream",
     "text": [
      "Enter the student's marks:  68\n"
     ]
    },
    {
     "name": "stdout",
     "output_type": "stream",
     "text": [
      "The student's grade is: C\n"
     ]
    }
   ],
   "source": [
    "marks = float(input(\"Enter the student's marks: \"))\n",
    "if marks>=85:\n",
    "    grade ='A'\n",
    "elif 70 <= marks <85:\n",
    "    grade ='B'\n",
    "elif 50<= marks <70:\n",
    "    grade ='C'\n",
    "else:\n",
    "    grade='F'\n",
    "\n",
    "print(f\"The student's grade is: {grade}\")"
   ]
  },
  {
   "cell_type": "code",
   "execution_count": null,
   "id": "50bd8e82-6313-47c0-9169-f4caeca27d5f",
   "metadata": {},
   "outputs": [],
   "source": []
  }
 ],
 "metadata": {
  "kernelspec": {
   "display_name": "Python 3 (ipykernel)",
   "language": "python",
   "name": "python3"
  },
  "language_info": {
   "codemirror_mode": {
    "name": "ipython",
    "version": 3
   },
   "file_extension": ".py",
   "mimetype": "text/x-python",
   "name": "python",
   "nbconvert_exporter": "python",
   "pygments_lexer": "ipython3",
   "version": "3.12.4"
  }
 },
 "nbformat": 4,
 "nbformat_minor": 5
}
